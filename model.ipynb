{
 "cells": [
  {
   "cell_type": "markdown",
   "id": "fa8311f2",
   "metadata": {},
   "source": [
    "Data Analysis and Preprocessing"
   ]
  },
  {
   "cell_type": "code",
   "execution_count": 2,
   "id": "9145642e",
   "metadata": {},
   "outputs": [],
   "source": [
    "import pandas as pd\n",
    "import numpy as np\n",
    "from sklearn.model_selection import train_test_split\n",
    "from sklearn.ensemble import RandomForestRegressor\n",
    "from sklearn.metrics import mean_absolute_error\n",
    "from sklearn.preprocessing import LabelEncoder\n",
    "import matplotlib.pyplot as plt\n",
    "import seaborn as sns\n",
    "\n",
    "# Load the data\n",
    "df = pd.read_csv('quikr_car.csv')\n",
    "\n",
    "# Data cleaning\n",
    "# Remove rows with 'Ask For Price' or missing prices\n",
    "df = df[df['Price'] != 'Ask For Price']\n",
    "df = df.dropna(subset=['Price'])\n",
    "\n",
    "# Clean price column (remove commas and convert to float)\n",
    "df['Price'] = df['Price'].str.replace(',', '').astype(float)\n",
    "\n",
    "# Clean kms_driven (extract numeric value)\n",
    "df['kms_driven'] = df['kms_driven'].str.extract('(\\d+)').astype(float)\n",
    "\n",
    "# Drop duplicates\n",
    "df = df.drop_duplicates()\n",
    "\n",
    "# Feature engineering\n",
    "df['year'] = pd.to_numeric(df['year'], errors='coerce')\n",
    "df['age'] = 2023 - df['year']  # Assuming current year is 2023\n",
    "\n",
    "# Encode categorical variables\n",
    "label_encoders = {}\n",
    "for column in ['company', 'fuel_type']:\n",
    "    le = LabelEncoder()\n",
    "    df[column] = le.fit_transform(df[column])\n",
    "    label_encoders[column] = le\n",
    "\n",
    "# Select relevant features\n",
    "features = ['company', 'year', 'kms_driven', 'fuel_type', 'age']\n",
    "target = 'Price'\n",
    "\n",
    "# Split data\n",
    "X = df[features]\n",
    "y = df[target]\n",
    "X_train, X_test, y_train, y_test = train_test_split(X, y, test_size=0.2, random_state=42)"
   ]
  },
  {
   "cell_type": "markdown",
   "id": "a52b3b4e",
   "metadata": {},
   "source": [
    "Model Training"
   ]
  },
  {
   "cell_type": "code",
   "execution_count": 3,
   "id": "855555f1",
   "metadata": {},
   "outputs": [
    {
     "name": "stdout",
     "output_type": "stream",
     "text": [
      "Mean Absolute Error: 143564.7740564374\n",
      "Model Score: 0.36938602053224934\n"
     ]
    }
   ],
   "source": [
    "# Initialize and train the model\n",
    "model = RandomForestRegressor(n_estimators=100, random_state=42)\n",
    "model.fit(X_train, y_train)\n",
    "\n",
    "# Make predictions\n",
    "predictions = model.predict(X_test)\n",
    "\n",
    "# Evaluate the model\n",
    "mae = mean_absolute_error(y_test, predictions)\n",
    "print(f\"Mean Absolute Error: {mae}\")\n",
    "print(f\"Model Score: {model.score(X_test, y_test)}\")"
   ]
  },
  {
   "cell_type": "markdown",
   "id": "40dc5426",
   "metadata": {},
   "source": [
    "Create Prediction Function"
   ]
  },
  {
   "cell_type": "code",
   "execution_count": 4,
   "id": "1d80fc96",
   "metadata": {},
   "outputs": [
    {
     "name": "stdout",
     "output_type": "stream",
     "text": [
      "Predicted Price: ₹546,500.00\n"
     ]
    }
   ],
   "source": [
    "def predict_car_price(company, year, kms_driven, fuel_type):\n",
    "    # Create a dataframe with the input data\n",
    "    input_data = pd.DataFrame({\n",
    "        'company': [company],\n",
    "        'year': [year],\n",
    "        'kms_driven': [kms_driven],\n",
    "        'fuel_type': [fuel_type],\n",
    "        'age': [2023 - year]\n",
    "    })\n",
    "    \n",
    "    # Encode categorical variables using the same encoders\n",
    "    input_data['company'] = label_encoders['company'].transform(input_data['company'])\n",
    "    input_data['fuel_type'] = label_encoders['fuel_type'].transform(input_data['fuel_type'])\n",
    "    \n",
    "    # Make prediction\n",
    "    predicted_price = model.predict(input_data)\n",
    "    return predicted_price[0]\n",
    "\n",
    "# Example usage\n",
    "company = 'Maruti'\n",
    "year = 2018\n",
    "kms_driven = 25000\n",
    "fuel_type = 'Petrol'\n",
    "\n",
    "predicted_price = predict_car_price(company, year, kms_driven, fuel_type)\n",
    "print(f\"Predicted Price: ₹{predicted_price:,.2f}\")"
   ]
  },
  {
   "cell_type": "markdown",
   "id": "0d4fb281",
   "metadata": {},
   "source": [
    "Feature Importance Visualization"
   ]
  },
  {
   "cell_type": "code",
   "execution_count": 5,
   "id": "b64dbca2",
   "metadata": {},
   "outputs": [
    {
     "data": {
      "image/png": "[encoded data removed]",
      "text/plain": [
       "<Figure size 1000x600 with 1 Axes>"
      ]
     },
     "metadata": {},
     "output_type": "display_data"
    }
   ],
   "source": [
    "# Get feature importances\n",
    "importances = model.feature_importances_\n",
    "feature_names = X.columns\n",
    "\n",
    "# Create a DataFrame for visualization\n",
    "feature_importance = pd.DataFrame({'feature': feature_names, 'importance': importances})\n",
    "feature_importance = feature_importance.sort_values('importance', ascending=False)\n",
    "\n",
    "# Plot\n",
    "plt.figure(figsize=(10, 6))\n",
    "sns.barplot(x='importance', y='feature', data=feature_importance)\n",
    "plt.title('Feature Importance')\n",
    "plt.show()"
   ]
  },
  {
   "cell_type": "code",
   "execution_count": 7,
   "id": "3e2ee1e0",
   "metadata": {},
   "outputs": [
    {
     "data": {
      "text/plain": [
       "['fuel_type_encoder.pkl']"
      ]
     },
     "execution_count": 7,
     "metadata": {},
     "output_type": "execute_result"
    }
   ],
   "source": [
    "joblib.dump(label_encoders['company'], 'company_encoder.pkl')\n",
    "joblib.dump(label_encoders['fuel_type'], 'fuel_type_encoder.pkl')\n"
   ]
  },
  {
   "cell_type": "code",
   "execution_count": 8,
   "id": "38df7b2c",
   "metadata": {},
   "outputs": [
    {
     "data": {
      "text/plain": [
       "['model.pkl']"
      ]
     },
     "execution_count": 8,
     "metadata": {},
     "output_type": "execute_result"
    }
   ],
   "source": [
    "import joblib\n",
    "\n",
    "# Save model\n",
    "joblib.dump(model, 'model.pkl')\n",
    "\n",
    "# Later, to load:\n",
    "# model = joblib.load('model.pkl')\n"
   ]
  }
 ],
 "metadata": {
  "kernelspec": {
   "display_name": "Python 3",
   "language": "python",
   "name": "python3"
  },
  "language_info": {
   "codemirror_mode": {
    "name": "ipython",
    "version": 3
   },
   "file_extension": ".py",
   "mimetype": "text/x-python",
   "name": "python",
   "nbconvert_exporter": "python",
   "pygments_lexer": "ipython3",
   "version": "3.11.5"
  }
 },
 "nbformat": 4,
 "nbformat_minor": 5
}
